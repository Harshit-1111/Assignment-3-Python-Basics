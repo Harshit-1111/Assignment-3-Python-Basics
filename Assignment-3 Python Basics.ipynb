{
 "cells": [
  {
   "cell_type": "code",
   "execution_count": null,
   "id": "64e491f8",
   "metadata": {},
   "outputs": [],
   "source": [
    "#Q1 Why are functions advantageous to have in your programs?\n",
    "Ans Functions reduce our time in writing the duplicate of the code.\n",
    "    Functions are reusable and improves scalability."
   ]
  },
  {
   "cell_type": "code",
   "execution_count": null,
   "id": "febc15c0",
   "metadata": {},
   "outputs": [],
   "source": [
    "#Q2 When does the code in a function run: when it is specified or when it is called?\n",
    "Ans A function runs when it is called."
   ]
  },
  {
   "cell_type": "code",
   "execution_count": null,
   "id": "f23b42df",
   "metadata": {},
   "outputs": [],
   "source": [
    "#Q3 What statement creates a function?\n",
    "Ans The “def” keyword "
   ]
  },
  {
   "cell_type": "code",
   "execution_count": null,
   "id": "09ca1eb8",
   "metadata": {},
   "outputs": [],
   "source": [
    "#Q4 What is the difference between a function and a function call?\n",
    "Ans A function is a block of code that does a particular operation and returns a result.\n",
    "    It usually accepts inputs as parameters and returns a result. \n",
    "    E.g:\n",
    "         Function add(a,b)\n",
    "            return a+ b\n",
    "    A function call is the code used to pass control to a function.\n",
    "    E.g.:\n",
    "          b = add(5,6)\n",
    "            Now b will have the value 11.    "
   ]
  },
  {
   "cell_type": "code",
   "execution_count": null,
   "id": "a17f2f5f",
   "metadata": {},
   "outputs": [],
   "source": [
    "#Q5 How many global scopes are there in a Python program? How many local scopes?\n",
    "Ans one Global Scope and one Local Scope"
   ]
  },
  {
   "cell_type": "code",
   "execution_count": null,
   "id": "69ac8c63",
   "metadata": {},
   "outputs": [],
   "source": [
    "#Q6 What happens to variables in a local scope when the function call returns?\n",
    "Ans The variables are destroyed"
   ]
  },
  {
   "cell_type": "code",
   "execution_count": null,
   "id": "1de8bf7d",
   "metadata": {},
   "outputs": [],
   "source": [
    "#Q7 What is the concept of a return value?Is it possible to have a return value in an expression?\n",
    "Ans Generally a function takes arguments, then it performs some operations and then returns a value.\n",
    "    The value that a function returns to the caller is generally known as the function's return value.\n",
    "    You can use any Python object as a return value. Since everything in Python is an object, you can return strings, \n",
    "    lists, tuples, dictionaries, functions, classes, instances, user-defined objects etc."
   ]
  },
  {
   "cell_type": "code",
   "execution_count": null,
   "id": "cc08eaaa",
   "metadata": {},
   "outputs": [],
   "source": [
    "#Q8 If a function does not have a return statement, what is the return value of a call to that function?\n",
    "Ans It will return a default value"
   ]
  },
  {
   "cell_type": "code",
   "execution_count": null,
   "id": "30fe6ce7",
   "metadata": {},
   "outputs": [],
   "source": [
    "#Q9 How do you make a function variable refer to the global variable?\n",
    "Ans if you want to refer to a global variable in a function, \n",
    "    you can use the global keyword to declare which variables are global."
   ]
  },
  {
   "cell_type": "code",
   "execution_count": null,
   "id": "5fab4f0e",
   "metadata": {},
   "outputs": [],
   "source": [
    "#Q10 What is the data type of None?\n",
    "Ans Nonetype"
   ]
  },
  {
   "cell_type": "code",
   "execution_count": null,
   "id": "65069634",
   "metadata": {},
   "outputs": [],
   "source": [
    "#Q11 If you had a bacon() feature in a spam module, what would you call it after importing spam?\n",
    "Ans spam.bacon()"
   ]
  },
  {
   "cell_type": "code",
   "execution_count": null,
   "id": "f749af61",
   "metadata": {},
   "outputs": [],
   "source": [
    "#Q12 What can you do to save a programme from crashing if it encounters an error?\n",
    "Ans Try running the program and it should throw an error message instead of crashing the program"
   ]
  },
  {
   "cell_type": "code",
   "execution_count": null,
   "id": "bbbe62ce",
   "metadata": {},
   "outputs": [],
   "source": [
    "#Q13 What is the purpose of the try clause? What is the purpose of the except clause?\n",
    "Ans The try block lets you test a block of code for errors. The except block lets you handle the error."
   ]
  },
  {
   "cell_type": "markdown",
   "id": "e816ba0b",
   "metadata": {},
   "source": []
  }
 ],
 "metadata": {
  "kernelspec": {
   "display_name": "Python 3 (ipykernel)",
   "language": "python",
   "name": "python3"
  },
  "language_info": {
   "codemirror_mode": {
    "name": "ipython",
    "version": 3
   },
   "file_extension": ".py",
   "mimetype": "text/x-python",
   "name": "python",
   "nbconvert_exporter": "python",
   "pygments_lexer": "ipython3",
   "version": "3.9.7"
  }
 },
 "nbformat": 4,
 "nbformat_minor": 5
}
